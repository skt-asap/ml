{
 "cells": [
  {
   "cell_type": "code",
   "execution_count": 1,
   "metadata": {},
   "outputs": [
    {
     "name": "stdout",
     "output_type": "stream",
     "text": [
      "데이터 로딩 중...\n"
     ]
    },
    {
     "name": "stderr",
     "output_type": "stream",
     "text": [
      "/var/folders/6y/gvfh979s4nb35bcvpht0ntlm0000gn/T/ipykernel_13241/1193262168.py:41: SettingWithCopyWarning: \n",
      "A value is trying to be set on a copy of a slice from a DataFrame.\n",
      "Try using .loc[row_indexer,col_indexer] = value instead\n",
      "\n",
      "See the caveats in the documentation: https://pandas.pydata.org/pandas-docs/stable/user_guide/indexing.html#returning-a-view-versus-a-copy\n",
      "  X[col] = X[col].astype('category')\n",
      "/var/folders/6y/gvfh979s4nb35bcvpht0ntlm0000gn/T/ipykernel_13241/1193262168.py:41: SettingWithCopyWarning: \n",
      "A value is trying to be set on a copy of a slice from a DataFrame.\n",
      "Try using .loc[row_indexer,col_indexer] = value instead\n",
      "\n",
      "See the caveats in the documentation: https://pandas.pydata.org/pandas-docs/stable/user_guide/indexing.html#returning-a-view-versus-a-copy\n",
      "  X[col] = X[col].astype('category')\n",
      "/var/folders/6y/gvfh979s4nb35bcvpht0ntlm0000gn/T/ipykernel_13241/1193262168.py:47: SettingWithCopyWarning: \n",
      "A value is trying to be set on a copy of a slice from a DataFrame.\n",
      "Try using .loc[row_indexer,col_indexer] = value instead\n",
      "\n",
      "See the caveats in the documentation: https://pandas.pydata.org/pandas-docs/stable/user_guide/indexing.html#returning-a-view-versus-a-copy\n",
      "  y[col] = le.fit_transform(y[col])\n",
      "/var/folders/6y/gvfh979s4nb35bcvpht0ntlm0000gn/T/ipykernel_13241/1193262168.py:47: SettingWithCopyWarning: \n",
      "A value is trying to be set on a copy of a slice from a DataFrame.\n",
      "Try using .loc[row_indexer,col_indexer] = value instead\n",
      "\n",
      "See the caveats in the documentation: https://pandas.pydata.org/pandas-docs/stable/user_guide/indexing.html#returning-a-view-versus-a-copy\n",
      "  y[col] = le.fit_transform(y[col])\n",
      "/var/folders/6y/gvfh979s4nb35bcvpht0ntlm0000gn/T/ipykernel_13241/1193262168.py:47: SettingWithCopyWarning: \n",
      "A value is trying to be set on a copy of a slice from a DataFrame.\n",
      "Try using .loc[row_indexer,col_indexer] = value instead\n",
      "\n",
      "See the caveats in the documentation: https://pandas.pydata.org/pandas-docs/stable/user_guide/indexing.html#returning-a-view-versus-a-copy\n",
      "  y[col] = le.fit_transform(y[col])\n"
     ]
    },
    {
     "name": "stdout",
     "output_type": "stream",
     "text": [
      "데이터 분할 중...\n",
      "모델 학습 중...\n"
     ]
    },
    {
     "name": "stderr",
     "output_type": "stream",
     "text": [
      "/opt/homebrew/anaconda3/lib/python3.12/site-packages/lightgbm/basic.py:2118: UserWarning: categorical_feature keyword has been found in `params` and will be ignored.\n",
      "Please use categorical_feature argument of the Dataset constructor to pass this parameter.\n",
      "  _log_warning(\n",
      "/opt/homebrew/anaconda3/lib/python3.12/site-packages/lightgbm/basic.py:2140: UserWarning: categorical_feature in param dict is overridden.\n",
      "  _log_warning(f\"{cat_alias} in param dict is overridden.\")\n"
     ]
    },
    {
     "name": "stdout",
     "output_type": "stream",
     "text": [
      "[LightGBM] [Warning] Categorical features with more bins than the configured maximum bin number found.\n",
      "[LightGBM] [Warning] For categorical features, max_bin and max_bin_by_feature may be ignored with a large number of categories.\n",
      "[LightGBM] [Warning] categorical_feature is set=hour,Holiday,enbid_pci,day_of_week,is_weekend, categorical_column=0,1,2,3,4 will be ignored. Current value: categorical_feature=hour,Holiday,enbid_pci,day_of_week,is_weekend\n",
      "[LightGBM] [Info] Number of positive: 581126, number of negative: 3578784\n",
      "[LightGBM] [Info] Auto-choosing row-wise multi-threading, the overhead of testing was 0.038259 seconds.\n",
      "You can set `force_row_wise=true` to remove the overhead.\n",
      "And if memory is not enough, you can set `force_col_wise=true`.\n",
      "[LightGBM] [Info] Total Bins 693\n",
      "[LightGBM] [Info] Number of data points in the train set: 4159910, number of used features: 7\n",
      "[LightGBM] [Info] [binary:BoostFromScore]: pavg=0.500000 -> initscore=0.000000\n",
      "[LightGBM] [Info] Start training from score 0.000000\n"
     ]
    },
    {
     "name": "stderr",
     "output_type": "stream",
     "text": [
      "/opt/homebrew/anaconda3/lib/python3.12/site-packages/lightgbm/basic.py:2118: UserWarning: categorical_feature keyword has been found in `params` and will be ignored.\n",
      "Please use categorical_feature argument of the Dataset constructor to pass this parameter.\n",
      "  _log_warning(\n",
      "/opt/homebrew/anaconda3/lib/python3.12/site-packages/lightgbm/basic.py:2140: UserWarning: categorical_feature in param dict is overridden.\n",
      "  _log_warning(f\"{cat_alias} in param dict is overridden.\")\n"
     ]
    },
    {
     "name": "stdout",
     "output_type": "stream",
     "text": [
      "[LightGBM] [Warning] Categorical features with more bins than the configured maximum bin number found.\n",
      "[LightGBM] [Warning] For categorical features, max_bin and max_bin_by_feature may be ignored with a large number of categories.\n",
      "[LightGBM] [Warning] categorical_feature is set=hour,Holiday,enbid_pci,day_of_week,is_weekend, categorical_column=0,1,2,3,4 will be ignored. Current value: categorical_feature=hour,Holiday,enbid_pci,day_of_week,is_weekend\n",
      "[LightGBM] [Info] Number of positive: 1525706, number of negative: 2634204\n",
      "[LightGBM] [Info] Auto-choosing row-wise multi-threading, the overhead of testing was 0.037980 seconds.\n",
      "You can set `force_row_wise=true` to remove the overhead.\n",
      "And if memory is not enough, you can set `force_col_wise=true`.\n",
      "[LightGBM] [Info] Total Bins 693\n",
      "[LightGBM] [Info] Number of data points in the train set: 4159910, number of used features: 7\n",
      "[LightGBM] [Info] [binary:BoostFromScore]: pavg=0.500000 -> initscore=-0.000000\n",
      "[LightGBM] [Info] Start training from score -0.000000\n"
     ]
    },
    {
     "name": "stderr",
     "output_type": "stream",
     "text": [
      "/opt/homebrew/anaconda3/lib/python3.12/site-packages/lightgbm/basic.py:2118: UserWarning: categorical_feature keyword has been found in `params` and will be ignored.\n",
      "Please use categorical_feature argument of the Dataset constructor to pass this parameter.\n",
      "  _log_warning(\n",
      "/opt/homebrew/anaconda3/lib/python3.12/site-packages/lightgbm/basic.py:2140: UserWarning: categorical_feature in param dict is overridden.\n",
      "  _log_warning(f\"{cat_alias} in param dict is overridden.\")\n"
     ]
    },
    {
     "name": "stdout",
     "output_type": "stream",
     "text": [
      "[LightGBM] [Warning] Categorical features with more bins than the configured maximum bin number found.\n",
      "[LightGBM] [Warning] For categorical features, max_bin and max_bin_by_feature may be ignored with a large number of categories.\n",
      "[LightGBM] [Warning] categorical_feature is set=hour,Holiday,enbid_pci,day_of_week,is_weekend, categorical_column=0,1,2,3,4 will be ignored. Current value: categorical_feature=hour,Holiday,enbid_pci,day_of_week,is_weekend\n",
      "[LightGBM] [Info] Number of positive: 885599, number of negative: 3274311\n",
      "[LightGBM] [Info] Auto-choosing row-wise multi-threading, the overhead of testing was 0.047865 seconds.\n",
      "You can set `force_row_wise=true` to remove the overhead.\n",
      "And if memory is not enough, you can set `force_col_wise=true`.\n",
      "[LightGBM] [Info] Total Bins 693\n",
      "[LightGBM] [Info] Number of data points in the train set: 4159910, number of used features: 7\n",
      "[LightGBM] [Info] [binary:BoostFromScore]: pavg=0.500000 -> initscore=0.000000\n",
      "[LightGBM] [Info] Start training from score 0.000000\n",
      "학습 시간: 106.80 초\n",
      "예측 중...\n",
      "예측 시간: 15.48 초\n",
      "\n",
      "정확도: 0.8250\n",
      "\n",
      "분류 보고서:\n"
     ]
    },
    {
     "name": "stderr",
     "output_type": "stream",
     "text": [
      "/opt/homebrew/anaconda3/lib/python3.12/site-packages/sklearn/metrics/_classification.py:1509: UndefinedMetricWarning: Precision is ill-defined and being set to 0.0 in samples with no predicted labels. Use `zero_division` parameter to control this behavior.\n",
      "  _warn_prf(average, modifier, f\"{metric.capitalize()} is\", len(result))\n",
      "/opt/homebrew/anaconda3/lib/python3.12/site-packages/sklearn/metrics/_classification.py:1509: UndefinedMetricWarning: Recall is ill-defined and being set to 0.0 in samples with no true labels. Use `zero_division` parameter to control this behavior.\n",
      "  _warn_prf(average, modifier, f\"{metric.capitalize()} is\", len(result))\n",
      "/opt/homebrew/anaconda3/lib/python3.12/site-packages/sklearn/metrics/_classification.py:1509: UndefinedMetricWarning: F-score is ill-defined and being set to 0.0 in samples with no true nor predicted labels. Use `zero_division` parameter to control this behavior.\n",
      "  _warn_prf(average, modifier, f\"{metric.capitalize()} is\", len(result))\n"
     ]
    },
    {
     "name": "stdout",
     "output_type": "stream",
     "text": [
      "              precision    recall  f1-score   support\n",
      "\n",
      "   cell_2100       0.59      0.92      0.71    145282\n",
      "cell_2600_10       0.86      0.95      0.90    380615\n",
      "cell_2600_20       0.84      0.97      0.90    221811\n",
      "\n",
      "   micro avg       0.79      0.95      0.86    747708\n",
      "   macro avg       0.76      0.94      0.84    747708\n",
      "weighted avg       0.80      0.95      0.87    747708\n",
      " samples avg       0.49      0.55      0.51    747708\n",
      "\n",
      "분류 보고서가 'classification_report.txt' 파일로 저장되었습니다.\n"
     ]
    },
    {
     "ename": "NameError",
     "evalue": "name 'multi_model' is not defined",
     "output_type": "error",
     "traceback": [
      "\u001b[0;31m---------------------------------------------------------------------------\u001b[0m",
      "\u001b[0;31mNameError\u001b[0m                                 Traceback (most recent call last)",
      "Cell \u001b[0;32mIn[1], line 98\u001b[0m\n\u001b[1;32m     95\u001b[0m \u001b[38;5;28mprint\u001b[39m(\u001b[38;5;124m\"\u001b[39m\u001b[38;5;124m분류 보고서가 \u001b[39m\u001b[38;5;124m'\u001b[39m\u001b[38;5;124mclassification_report.txt\u001b[39m\u001b[38;5;124m'\u001b[39m\u001b[38;5;124m 파일로 저장되었습니다.\u001b[39m\u001b[38;5;124m\"\u001b[39m)\n\u001b[1;32m     97\u001b[0m \u001b[38;5;66;03m# 특성 중요도 계산 및 저장\u001b[39;00m\n\u001b[0;32m---> 98\u001b[0m feature_importance \u001b[38;5;241m=\u001b[39m multi_model\u001b[38;5;241m.\u001b[39mestimators_[\u001b[38;5;241m0\u001b[39m]\u001b[38;5;241m.\u001b[39mfeature_importances_\n\u001b[1;32m     99\u001b[0m feature_importance_dict \u001b[38;5;241m=\u001b[39m \u001b[38;5;28mdict\u001b[39m(\u001b[38;5;28mzip\u001b[39m(X\u001b[38;5;241m.\u001b[39mcolumns, feature_importance))\n\u001b[1;32m    100\u001b[0m sorted_features \u001b[38;5;241m=\u001b[39m \u001b[38;5;28msorted\u001b[39m(feature_importance_dict\u001b[38;5;241m.\u001b[39mitems(), key\u001b[38;5;241m=\u001b[39m\u001b[38;5;28;01mlambda\u001b[39;00m x: x[\u001b[38;5;241m1\u001b[39m], reverse\u001b[38;5;241m=\u001b[39m\u001b[38;5;28;01mTrue\u001b[39;00m)\n",
      "\u001b[0;31mNameError\u001b[0m: name 'multi_model' is not defined"
     ]
    }
   ],
   "source": [
    "import pandas as pd\n",
    "import numpy as np\n",
    "from sklearn.model_selection import train_test_split\n",
    "from sklearn.metrics import accuracy_score, classification_report\n",
    "from lightgbm import LGBMClassifier\n",
    "from sklearn.multioutput import MultiOutputClassifier\n",
    "from sklearn.preprocessing import LabelEncoder\n",
    "import time\n",
    "\n",
    "# 데이터 로드\n",
    "print(\"데이터 로딩 중...\")\n",
    "data = pd.read_csv('labeled_data.csv')\n",
    "\n",
    "# timestamp를 datetime으로 변환하고 추가 특성 생성\n",
    "data['timestamp'] = pd.to_datetime(data['timestamp'])\n",
    "data['day_of_week'] = data['timestamp'].dt.dayofweek\n",
    "data['hour'] = data['timestamp'].dt.hour\n",
    "data['minute'] = data['timestamp'].dt.minute\n",
    "\n",
    "data['is_weekend'] = data['day_of_week'].isin([5, 6]).astype(int)\n",
    "\n",
    "\n",
    "# 새로운 특성 추가\n",
    "\n",
    "\n",
    "data['sin_day'] = np.sin(2 * np.pi * data['day_of_week'] / 7)\n",
    "data['cos_day'] = np.cos(2 * np.pi * data['day_of_week'] / 7)\n",
    "\n",
    "# 특성과 타겟 정의\n",
    "categorical_features = [\n",
    "    'hour', 'Holiday', 'enbid_pci', 'day_of_week', 'is_weekend'\n",
    "]\n",
    "numeric_features = [ 'sin_day', 'cos_day']\n",
    "features = categorical_features + numeric_features\n",
    "\n",
    "X = data[features]\n",
    "y = data[['cell_2100', 'cell_2600_10', 'cell_2600_20']]\n",
    "\n",
    "# 범주형 변수 처리\n",
    "for col in categorical_features:\n",
    "    X[col] = X[col].astype('category')\n",
    "\n",
    "# 레이블 인코딩\n",
    "label_encoders = {}\n",
    "for col in y.columns:\n",
    "    le = LabelEncoder()\n",
    "    y[col] = le.fit_transform(y[col])\n",
    "    label_encoders[col] = le\n",
    "\n",
    "# 데이터 분할\n",
    "print(\"데이터 분할 중...\")\n",
    "X_train, X_test, y_train, y_test = train_test_split(X, y, test_size=0.2, random_state=42, stratify=y['cell_2100'])\n",
    "\n",
    "# LightGBM 모델 정의\n",
    "lgb_model = MultiOutputClassifier(LGBMClassifier(\n",
    "    n_estimators=500,\n",
    "    learning_rate=0.01,\n",
    "    num_leaves=31,\n",
    "    max_depth=-1,\n",
    "    min_child_samples=20,\n",
    "    subsample=0.8,\n",
    "    colsample_bytree=0.8,\n",
    "    random_state=42,\n",
    "    categorical_feature=categorical_features,\n",
    "    class_weight='balanced'\n",
    "))\n",
    "\n",
    "# 모델 학습\n",
    "print(\"모델 학습 중...\")\n",
    "start_time = time.time()\n",
    "lgb_model.fit(X_train, y_train)\n",
    "train_time = time.time() - start_time\n",
    "print(f\"학습 시간: {train_time:.2f} 초\")\n",
    "\n",
    "# 예측\n",
    "print(\"예측 중...\")\n",
    "start_time = time.time()\n",
    "y_pred = lgb_model.predict(X_test)\n",
    "predict_time = time.time() - start_time\n",
    "print(f\"예측 시간: {predict_time:.2f} 초\")\n",
    "\n",
    "\n",
    "\n",
    "# 성능 평가\n",
    "accuracy = accuracy_score(y_test, y_pred)\n",
    "print(f\"\\n정확도: {accuracy:.4f}\")\n",
    "\n",
    "# 분류 보고서 출력 및 저장\n",
    "print(\"\\n분류 보고서:\")\n",
    "report = classification_report(y_test, y_pred, target_names=['cell_2100', 'cell_2600_10', 'cell_2600_20'])\n",
    "print(report)\n",
    "\n",
    "with open('classification_report.txt', 'w') as f:\n",
    "    f.write(report)\n",
    "print(\"분류 보고서가 'classification_report.txt' 파일로 저장되었습니다.\")\n",
    "\n",
    "# 특성 중요도 계산 및 저장\n",
    "feature_importance = multi_model.estimators_[0].feature_importances_\n",
    "feature_importance_dict = dict(zip(X.columns, feature_importance))\n",
    "sorted_features = sorted(feature_importance_dict.items(), key=lambda x: x[1], reverse=True)\n",
    "\n",
    "print(\"\\n특성 중요도 (상위 10개):\")\n",
    "for feature, importance in sorted_features[:10]:\n",
    "    print(f\"{feature}: {importance:.4f}\")\n",
    "\n",
    "# 특성 중요도를 DataFrame으로 변환\n",
    "importance_df = pd.DataFrame(sorted_features, columns=['Feature', 'Importance'])\n",
    "importance_df.to_csv('feature_importance.csv', index=False)\n",
    "print(\"전체 특성 중요도가 'feature_importance.csv' 파일로 저장되었습니다.\")\n",
    "\n",
    "# 모델 저장\n",
    "import joblib\n",
    "model_filename = 'lgbm_cell_labeling_model.joblib'\n",
    "joblib.dump(multi_model, model_filename)\n",
    "print(f\"\\n모델이 {model_filename} 파일로 저장되었습니다.\")"
   ]
  },
  {
   "cell_type": "code",
   "execution_count": null,
   "metadata": {},
   "outputs": [],
   "source": []
  }
 ],
 "metadata": {
  "kernelspec": {
   "display_name": "base",
   "language": "python",
   "name": "python3"
  },
  "language_info": {
   "codemirror_mode": {
    "name": "ipython",
    "version": 3
   },
   "file_extension": ".py",
   "mimetype": "text/x-python",
   "name": "python",
   "nbconvert_exporter": "python",
   "pygments_lexer": "ipython3",
   "version": "3.12.4"
  }
 },
 "nbformat": 4,
 "nbformat_minor": 2
}
